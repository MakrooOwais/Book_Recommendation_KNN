{
  "cells": [
    {
      "cell_type": "code",
      "execution_count": 68,
      "metadata": {},
      "outputs": [
        {
          "name": "stdout",
          "output_type": "stream",
          "text": [
            "The nb_black extension is already loaded. To reload it, use:\n",
            "  %reload_ext nb_black\n",
            "The lab_black extension is already loaded. To reload it, use:\n",
            "  %reload_ext lab_black\n"
          ]
        },
        {
          "data": {
            "application/javascript": "\n            setTimeout(function() {\n                var nbb_cell_id = 68;\n                var nbb_unformatted_code = \"%load_ext nb_black\\n%load_ext lab_black\";\n                var nbb_formatted_code = \"%load_ext nb_black\\n%load_ext lab_black\";\n                var nbb_cells = Jupyter.notebook.get_cells();\n                for (var i = 0; i < nbb_cells.length; ++i) {\n                    if (nbb_cells[i].input_prompt_number == nbb_cell_id) {\n                        if (nbb_cells[i].get_text() == nbb_unformatted_code) {\n                             nbb_cells[i].set_text(nbb_formatted_code);\n                        }\n                        break;\n                    }\n                }\n            }, 500);\n            ",
            "text/plain": [
              "<IPython.core.display.Javascript object>"
            ]
          },
          "metadata": {},
          "output_type": "display_data"
        }
      ],
      "source": [
        "%load_ext nb_black\n",
        "%load_ext lab_black"
      ]
    },
    {
      "cell_type": "code",
      "execution_count": 69,
      "metadata": {
        "id": "Y1onB6kUvo4Z"
      },
      "outputs": [
        {
          "data": {
            "application/javascript": "\n            setTimeout(function() {\n                var nbb_cell_id = 69;\n                var nbb_unformatted_code = \"# import libraries (you may add additional imports but you may not have to)\\nimport numpy as np\\nimport pandas as pd\\nfrom scipy.sparse import csr_matrix\\nfrom sklearn.neighbors import NearestNeighbors\\nimport matplotlib.pyplot as plt\";\n                var nbb_formatted_code = \"# import libraries (you may add additional imports but you may not have to)\\nimport numpy as np\\nimport pandas as pd\\nfrom scipy.sparse import csr_matrix\\nfrom sklearn.neighbors import NearestNeighbors\\nimport matplotlib.pyplot as plt\";\n                var nbb_cells = Jupyter.notebook.get_cells();\n                for (var i = 0; i < nbb_cells.length; ++i) {\n                    if (nbb_cells[i].input_prompt_number == nbb_cell_id) {\n                        if (nbb_cells[i].get_text() == nbb_unformatted_code) {\n                             nbb_cells[i].set_text(nbb_formatted_code);\n                        }\n                        break;\n                    }\n                }\n            }, 500);\n            ",
            "text/plain": [
              "<IPython.core.display.Javascript object>"
            ]
          },
          "metadata": {},
          "output_type": "display_data"
        }
      ],
      "source": [
        "# import libraries (you may add additional imports but you may not have to)\n",
        "import numpy as np\n",
        "import pandas as pd\n",
        "from scipy.sparse import csr_matrix\n",
        "from sklearn.neighbors import NearestNeighbors\n",
        "import matplotlib.pyplot as plt"
      ]
    },
    {
      "cell_type": "code",
      "execution_count": 70,
      "metadata": {
        "id": "iAQGqqO_vo4d"
      },
      "outputs": [
        {
          "data": {
            "application/javascript": "\n            setTimeout(function() {\n                var nbb_cell_id = 70;\n                var nbb_unformatted_code = \"books_filename = \\\"BX-Books.csv\\\"\\nratings_filename = \\\"BX-Book-Ratings.csv\\\"\";\n                var nbb_formatted_code = \"books_filename = \\\"BX-Books.csv\\\"\\nratings_filename = \\\"BX-Book-Ratings.csv\\\"\";\n                var nbb_cells = Jupyter.notebook.get_cells();\n                for (var i = 0; i < nbb_cells.length; ++i) {\n                    if (nbb_cells[i].input_prompt_number == nbb_cell_id) {\n                        if (nbb_cells[i].get_text() == nbb_unformatted_code) {\n                             nbb_cells[i].set_text(nbb_formatted_code);\n                        }\n                        break;\n                    }\n                }\n            }, 500);\n            ",
            "text/plain": [
              "<IPython.core.display.Javascript object>"
            ]
          },
          "metadata": {},
          "output_type": "display_data"
        }
      ],
      "source": [
        "books_filename = \"BX-Books.csv\"\n",
        "ratings_filename = \"BX-Book-Ratings.csv\""
      ]
    },
    {
      "cell_type": "code",
      "execution_count": 71,
      "metadata": {
        "id": "NClILWOiEd6Q"
      },
      "outputs": [
        {
          "name": "stderr",
          "output_type": "stream",
          "text": [
            "C:\\Users\\makro\\AppData\\Local\\Temp\\ipykernel_6880\\3670924125.py:2: FutureWarning: The error_bad_lines argument has been deprecated and will be removed in a future version. Use on_bad_lines in the future.\n",
            "\n",
            "\n",
            "  books = pd.read_csv(\"BX-Books.csv\", sep=\";\", error_bad_lines=False, encoding=\"latin-1\")\n",
            "b'Skipping line 6452: expected 8 fields, saw 9\\nSkipping line 43667: expected 8 fields, saw 10\\nSkipping line 51751: expected 8 fields, saw 9\\n'\n",
            "b'Skipping line 92038: expected 8 fields, saw 9\\nSkipping line 104319: expected 8 fields, saw 9\\nSkipping line 121768: expected 8 fields, saw 9\\n'\n",
            "b'Skipping line 144058: expected 8 fields, saw 9\\nSkipping line 150789: expected 8 fields, saw 9\\nSkipping line 157128: expected 8 fields, saw 9\\nSkipping line 180189: expected 8 fields, saw 9\\nSkipping line 185738: expected 8 fields, saw 9\\n'\n",
            "b'Skipping line 209388: expected 8 fields, saw 9\\nSkipping line 220626: expected 8 fields, saw 9\\nSkipping line 227933: expected 8 fields, saw 11\\nSkipping line 228957: expected 8 fields, saw 10\\nSkipping line 245933: expected 8 fields, saw 9\\nSkipping line 251296: expected 8 fields, saw 9\\nSkipping line 259941: expected 8 fields, saw 9\\nSkipping line 261529: expected 8 fields, saw 9\\n'\n",
            "C:\\Users\\makro\\AppData\\Local\\Temp\\ipykernel_6880\\3670924125.py:2: DtypeWarning: Columns (3) have mixed types. Specify dtype option on import or set low_memory=False.\n",
            "  books = pd.read_csv(\"BX-Books.csv\", sep=\";\", error_bad_lines=False, encoding=\"latin-1\")\n",
            "C:\\Users\\makro\\AppData\\Local\\Temp\\ipykernel_6880\\3670924125.py:13: FutureWarning: The error_bad_lines argument has been deprecated and will be removed in a future version. Use on_bad_lines in the future.\n",
            "\n",
            "\n",
            "  users = pd.read_csv(\"BX-Users.csv\", sep=\";\", error_bad_lines=False, encoding=\"latin-1\")\n",
            "C:\\Users\\makro\\AppData\\Local\\Temp\\ipykernel_6880\\3670924125.py:15: FutureWarning: The error_bad_lines argument has been deprecated and will be removed in a future version. Use on_bad_lines in the future.\n",
            "\n",
            "\n",
            "  ratings = pd.read_csv(\n"
          ]
        },
        {
          "data": {
            "application/javascript": "\n            setTimeout(function() {\n                var nbb_cell_id = 71;\n                var nbb_unformatted_code = \"# import csv data into dataframes\\nbooks = pd.read_csv(\\\"BX-Books.csv\\\", sep=\\\";\\\", error_bad_lines=False, encoding=\\\"latin-1\\\")\\nbooks.columns = [\\n    \\\"ISBN\\\",\\n    \\\"bookTitle\\\",\\n    \\\"bookAuthor\\\",\\n    \\\"yearOfPublication\\\",\\n    \\\"publisher\\\",\\n    \\\"imageUrlS\\\",\\n    \\\"imageUrlM\\\",\\n    \\\"imageUrlL\\\",\\n]\\nusers = pd.read_csv(\\\"BX-Users.csv\\\", sep=\\\";\\\", error_bad_lines=False, encoding=\\\"latin-1\\\")\\nusers.columns = [\\\"userID\\\", \\\"Location\\\", \\\"Age\\\"]\\nratings = pd.read_csv(\\n    \\\"BX-Book-Ratings.csv\\\", sep=\\\";\\\", error_bad_lines=False, encoding=\\\"latin-1\\\"\\n)\\nratings.columns = [\\\"userID\\\", \\\"ISBN\\\", \\\"bookRating\\\"]\";\n                var nbb_formatted_code = \"# import csv data into dataframes\\nbooks = pd.read_csv(\\\"BX-Books.csv\\\", sep=\\\";\\\", error_bad_lines=False, encoding=\\\"latin-1\\\")\\nbooks.columns = [\\n    \\\"ISBN\\\",\\n    \\\"bookTitle\\\",\\n    \\\"bookAuthor\\\",\\n    \\\"yearOfPublication\\\",\\n    \\\"publisher\\\",\\n    \\\"imageUrlS\\\",\\n    \\\"imageUrlM\\\",\\n    \\\"imageUrlL\\\",\\n]\\nusers = pd.read_csv(\\\"BX-Users.csv\\\", sep=\\\";\\\", error_bad_lines=False, encoding=\\\"latin-1\\\")\\nusers.columns = [\\\"userID\\\", \\\"Location\\\", \\\"Age\\\"]\\nratings = pd.read_csv(\\n    \\\"BX-Book-Ratings.csv\\\", sep=\\\";\\\", error_bad_lines=False, encoding=\\\"latin-1\\\"\\n)\\nratings.columns = [\\\"userID\\\", \\\"ISBN\\\", \\\"bookRating\\\"]\";\n                var nbb_cells = Jupyter.notebook.get_cells();\n                for (var i = 0; i < nbb_cells.length; ++i) {\n                    if (nbb_cells[i].input_prompt_number == nbb_cell_id) {\n                        if (nbb_cells[i].get_text() == nbb_unformatted_code) {\n                             nbb_cells[i].set_text(nbb_formatted_code);\n                        }\n                        break;\n                    }\n                }\n            }, 500);\n            ",
            "text/plain": [
              "<IPython.core.display.Javascript object>"
            ]
          },
          "metadata": {},
          "output_type": "display_data"
        }
      ],
      "source": [
        "# import csv data into dataframes\n",
        "books = pd.read_csv(\"BX-Books.csv\", sep=\";\", error_bad_lines=False, encoding=\"latin-1\")\n",
        "books.columns = [\n",
        "    \"ISBN\",\n",
        "    \"bookTitle\",\n",
        "    \"bookAuthor\",\n",
        "    \"yearOfPublication\",\n",
        "    \"publisher\",\n",
        "    \"imageUrlS\",\n",
        "    \"imageUrlM\",\n",
        "    \"imageUrlL\",\n",
        "]\n",
        "users = pd.read_csv(\"BX-Users.csv\", sep=\";\", error_bad_lines=False, encoding=\"latin-1\")\n",
        "users.columns = [\"userID\", \"Location\", \"Age\"]\n",
        "ratings = pd.read_csv(\n",
        "    \"BX-Book-Ratings.csv\", sep=\";\", error_bad_lines=False, encoding=\"latin-1\"\n",
        ")\n",
        "ratings.columns = [\"userID\", \"ISBN\", \"bookRating\"]"
      ]
    },
    {
      "cell_type": "code",
      "execution_count": 72,
      "metadata": {},
      "outputs": [
        {
          "data": {
            "application/javascript": "\n            setTimeout(function() {\n                var nbb_cell_id = 72;\n                var nbb_unformatted_code = \"combine_book_rating = pd.merge(ratings, books, on=\\\"ISBN\\\")\\ncolumns = [\\n    \\\"yearOfPublication\\\",\\n    \\\"publisher\\\",\\n    \\\"bookAuthor\\\",\\n    \\\"imageUrlS\\\",\\n    \\\"imageUrlM\\\",\\n    \\\"imageUrlL\\\",\\n]\\ncombine_book_rating = combine_book_rating.drop(columns, axis=1)\";\n                var nbb_formatted_code = \"combine_book_rating = pd.merge(ratings, books, on=\\\"ISBN\\\")\\ncolumns = [\\n    \\\"yearOfPublication\\\",\\n    \\\"publisher\\\",\\n    \\\"bookAuthor\\\",\\n    \\\"imageUrlS\\\",\\n    \\\"imageUrlM\\\",\\n    \\\"imageUrlL\\\",\\n]\\ncombine_book_rating = combine_book_rating.drop(columns, axis=1)\";\n                var nbb_cells = Jupyter.notebook.get_cells();\n                for (var i = 0; i < nbb_cells.length; ++i) {\n                    if (nbb_cells[i].input_prompt_number == nbb_cell_id) {\n                        if (nbb_cells[i].get_text() == nbb_unformatted_code) {\n                             nbb_cells[i].set_text(nbb_formatted_code);\n                        }\n                        break;\n                    }\n                }\n            }, 500);\n            ",
            "text/plain": [
              "<IPython.core.display.Javascript object>"
            ]
          },
          "metadata": {},
          "output_type": "display_data"
        }
      ],
      "source": [
        "combine_book_rating = pd.merge(ratings, books, on=\"ISBN\")\n",
        "columns = [\n",
        "    \"yearOfPublication\",\n",
        "    \"publisher\",\n",
        "    \"bookAuthor\",\n",
        "    \"imageUrlS\",\n",
        "    \"imageUrlM\",\n",
        "    \"imageUrlL\",\n",
        "]\n",
        "combine_book_rating = combine_book_rating.drop(columns, axis=1)"
      ]
    },
    {
      "cell_type": "code",
      "execution_count": 73,
      "metadata": {},
      "outputs": [
        {
          "data": {
            "application/javascript": "\n            setTimeout(function() {\n                var nbb_cell_id = 73;\n                var nbb_unformatted_code = \"combine_book_rating = combine_book_rating.dropna(axis=0, subset=[\\\"bookTitle\\\"])\\n\\nbook_ratingCount = (\\n    combine_book_rating.groupby(by=[\\\"bookTitle\\\"])[\\\"bookRating\\\"]\\n    .count()\\n    .reset_index()\\n    .rename(columns={\\\"bookRating\\\": \\\"totalRatingCount\\\"})[\\n        [\\\"bookTitle\\\", \\\"totalRatingCount\\\"]\\n    ]\\n)\\n\\nrating_with_totalRatingCount = combine_book_rating.merge(\\n    book_ratingCount, left_on=\\\"bookTitle\\\", right_on=\\\"bookTitle\\\", how=\\\"left\\\"\\n)\\n\\npopularity_threshold = 50\\nrating_popular_book = rating_with_totalRatingCount.query(\\n    \\\"totalRatingCount >= @popularity_threshold\\\"\\n)\";\n                var nbb_formatted_code = \"combine_book_rating = combine_book_rating.dropna(axis=0, subset=[\\\"bookTitle\\\"])\\n\\nbook_ratingCount = (\\n    combine_book_rating.groupby(by=[\\\"bookTitle\\\"])[\\\"bookRating\\\"]\\n    .count()\\n    .reset_index()\\n    .rename(columns={\\\"bookRating\\\": \\\"totalRatingCount\\\"})[\\n        [\\\"bookTitle\\\", \\\"totalRatingCount\\\"]\\n    ]\\n)\\n\\nrating_with_totalRatingCount = combine_book_rating.merge(\\n    book_ratingCount, left_on=\\\"bookTitle\\\", right_on=\\\"bookTitle\\\", how=\\\"left\\\"\\n)\\n\\npopularity_threshold = 50\\nrating_popular_book = rating_with_totalRatingCount.query(\\n    \\\"totalRatingCount >= @popularity_threshold\\\"\\n)\";\n                var nbb_cells = Jupyter.notebook.get_cells();\n                for (var i = 0; i < nbb_cells.length; ++i) {\n                    if (nbb_cells[i].input_prompt_number == nbb_cell_id) {\n                        if (nbb_cells[i].get_text() == nbb_unformatted_code) {\n                             nbb_cells[i].set_text(nbb_formatted_code);\n                        }\n                        break;\n                    }\n                }\n            }, 500);\n            ",
            "text/plain": [
              "<IPython.core.display.Javascript object>"
            ]
          },
          "metadata": {},
          "output_type": "display_data"
        }
      ],
      "source": [
        "combine_book_rating = combine_book_rating.dropna(axis=0, subset=[\"bookTitle\"])\n",
        "\n",
        "book_ratingCount = (\n",
        "    combine_book_rating.groupby(by=[\"bookTitle\"])[\"bookRating\"]\n",
        "    .count()\n",
        "    .reset_index()\n",
        "    .rename(columns={\"bookRating\": \"totalRatingCount\"})[\n",
        "        [\"bookTitle\", \"totalRatingCount\"]\n",
        "    ]\n",
        ")\n",
        "\n",
        "rating_with_totalRatingCount = combine_book_rating.merge(\n",
        "    book_ratingCount, left_on=\"bookTitle\", right_on=\"bookTitle\", how=\"left\"\n",
        ")\n",
        "\n",
        "popularity_threshold = 50\n",
        "rating_popular_book = rating_with_totalRatingCount.query(\n",
        "    \"totalRatingCount >= @popularity_threshold\"\n",
        ")"
      ]
    },
    {
      "cell_type": "code",
      "execution_count": 74,
      "metadata": {},
      "outputs": [
        {
          "data": {
            "application/javascript": "\n            setTimeout(function() {\n                var nbb_cell_id = 74;\n                var nbb_unformatted_code = \"from scipy.sparse import csr_matrix\\n\\ncombined = rating_popular_book.merge(\\n    users, left_on=\\\"userID\\\", right_on=\\\"userID\\\", how=\\\"left\\\"\\n)\\ncombined = combined.drop_duplicates([\\\"userID\\\", \\\"bookTitle\\\"])\\n\\ncombined_pivot = combined.pivot(\\n    index=\\\"bookTitle\\\", columns=\\\"userID\\\", values=\\\"bookRating\\\"\\n).fillna(0)\\ncombined_matrix = csr_matrix(combined_pivot.values)\";\n                var nbb_formatted_code = \"from scipy.sparse import csr_matrix\\n\\ncombined = rating_popular_book.merge(\\n    users, left_on=\\\"userID\\\", right_on=\\\"userID\\\", how=\\\"left\\\"\\n)\\ncombined = combined.drop_duplicates([\\\"userID\\\", \\\"bookTitle\\\"])\\n\\ncombined_pivot = combined.pivot(\\n    index=\\\"bookTitle\\\", columns=\\\"userID\\\", values=\\\"bookRating\\\"\\n).fillna(0)\\ncombined_matrix = csr_matrix(combined_pivot.values)\";\n                var nbb_cells = Jupyter.notebook.get_cells();\n                for (var i = 0; i < nbb_cells.length; ++i) {\n                    if (nbb_cells[i].input_prompt_number == nbb_cell_id) {\n                        if (nbb_cells[i].get_text() == nbb_unformatted_code) {\n                             nbb_cells[i].set_text(nbb_formatted_code);\n                        }\n                        break;\n                    }\n                }\n            }, 500);\n            ",
            "text/plain": [
              "<IPython.core.display.Javascript object>"
            ]
          },
          "metadata": {},
          "output_type": "display_data"
        }
      ],
      "source": [
        "from scipy.sparse import csr_matrix\n",
        "\n",
        "combined = rating_popular_book.merge(\n",
        "    users, left_on=\"userID\", right_on=\"userID\", how=\"left\"\n",
        ")\n",
        "combined = combined.drop_duplicates([\"userID\", \"bookTitle\"])\n",
        "\n",
        "combined_pivot = combined.pivot(\n",
        "    index=\"bookTitle\", columns=\"userID\", values=\"bookRating\"\n",
        ").fillna(0)\n",
        "combined_matrix = csr_matrix(combined_pivot.values)"
      ]
    },
    {
      "cell_type": "code",
      "execution_count": 75,
      "metadata": {},
      "outputs": [
        {
          "data": {
            "text/plain": [
              "NearestNeighbors(algorithm='brute', metric='cosine')"
            ]
          },
          "execution_count": 75,
          "metadata": {},
          "output_type": "execute_result"
        },
        {
          "data": {
            "application/javascript": "\n            setTimeout(function() {\n                var nbb_cell_id = 75;\n                var nbb_unformatted_code = \"from sklearn.neighbors import NearestNeighbors\\n\\nmodel_knn = NearestNeighbors(metric=\\\"cosine\\\", algorithm=\\\"brute\\\")\\nmodel_knn.fit(combined_matrix)\";\n                var nbb_formatted_code = \"from sklearn.neighbors import NearestNeighbors\\n\\nmodel_knn = NearestNeighbors(metric=\\\"cosine\\\", algorithm=\\\"brute\\\")\\nmodel_knn.fit(combined_matrix)\";\n                var nbb_cells = Jupyter.notebook.get_cells();\n                for (var i = 0; i < nbb_cells.length; ++i) {\n                    if (nbb_cells[i].input_prompt_number == nbb_cell_id) {\n                        if (nbb_cells[i].get_text() == nbb_unformatted_code) {\n                             nbb_cells[i].set_text(nbb_formatted_code);\n                        }\n                        break;\n                    }\n                }\n            }, 500);\n            ",
            "text/plain": [
              "<IPython.core.display.Javascript object>"
            ]
          },
          "metadata": {},
          "output_type": "display_data"
        }
      ],
      "source": [
        "from sklearn.neighbors import NearestNeighbors\n",
        "\n",
        "model_knn = NearestNeighbors(metric=\"cosine\", algorithm=\"brute\")\n",
        "model_knn.fit(combined_matrix)"
      ]
    },
    {
      "cell_type": "code",
      "execution_count": 76,
      "metadata": {},
      "outputs": [
        {
          "name": "stdout",
          "output_type": "stream",
          "text": [
            "['The Queen of the Damned (Vampire Chronicles (Paperback))', [['Pandora: New Tales of the Vampires (New Tales of the Vampires)', 0.8440147701469674], ['Memnoch the Devil (Vampire Chronicles, No 5)', 0.7420628214446703], ['Interview with the Vampire', 0.7202435286233742], ['The Vampire Lestat (Vampire Chronicles, Book II)', 0.595377238255751], ['The Tale of the Body Thief (Vampire Chronicles (Paperback))', 0.5620454125950052]]]\n"
          ]
        },
        {
          "data": {
            "application/javascript": "\n            setTimeout(function() {\n                var nbb_cell_id = 76;\n                var nbb_unformatted_code = \"from operator import itemgetter\\n\\n\\ndef get_recommends(book):\\n    recommendations = []\\n    x = combined_pivot.loc[[book]]\\n    distances, indices = model_knn.kneighbors(x.values.reshape(1, -1), n_neighbors=6)\\n\\n    for i in range(0, len(distances.flatten())):\\n        if i == 0:\\n            pass\\n        else:\\n            recommendations.append(\\n                [combined_pivot.index[indices.flatten()[i]], distances.flatten()[i]]\\n            )\\n    return [book, sorted(recommendations, key=itemgetter(1), reverse=True)]\\n\\n\\nprint(get_recommends(\\\"The Queen of the Damned (Vampire Chronicles (Paperback))\\\"))\";\n                var nbb_formatted_code = \"from operator import itemgetter\\n\\n\\ndef get_recommends(book):\\n    recommendations = []\\n    x = combined_pivot.loc[[book]]\\n    distances, indices = model_knn.kneighbors(x.values.reshape(1, -1), n_neighbors=6)\\n\\n    for i in range(0, len(distances.flatten())):\\n        if i == 0:\\n            pass\\n        else:\\n            recommendations.append(\\n                [combined_pivot.index[indices.flatten()[i]], distances.flatten()[i]]\\n            )\\n    return [book, sorted(recommendations, key=itemgetter(1), reverse=True)]\\n\\n\\nprint(get_recommends(\\\"The Queen of the Damned (Vampire Chronicles (Paperback))\\\"))\";\n                var nbb_cells = Jupyter.notebook.get_cells();\n                for (var i = 0; i < nbb_cells.length; ++i) {\n                    if (nbb_cells[i].input_prompt_number == nbb_cell_id) {\n                        if (nbb_cells[i].get_text() == nbb_unformatted_code) {\n                             nbb_cells[i].set_text(nbb_formatted_code);\n                        }\n                        break;\n                    }\n                }\n            }, 500);\n            ",
            "text/plain": [
              "<IPython.core.display.Javascript object>"
            ]
          },
          "metadata": {},
          "output_type": "display_data"
        }
      ],
      "source": [
        "from operator import itemgetter\n",
        "\n",
        "\n",
        "def get_recommends(book):\n",
        "    recommendations = []\n",
        "    x = combined_pivot.loc[[book]]\n",
        "    distances, indices = model_knn.kneighbors(x.values.reshape(1, -1), n_neighbors=6)\n",
        "\n",
        "    for i in range(0, len(distances.flatten())):\n",
        "        if i == 0:\n",
        "            pass\n",
        "        else:\n",
        "            recommendations.append(\n",
        "                [combined_pivot.index[indices.flatten()[i]], distances.flatten()[i]]\n",
        "            )\n",
        "    return [book, sorted(recommendations, key=itemgetter(1), reverse=True)]\n",
        "\n",
        "\n",
        "print(get_recommends(\"The Queen of the Damned (Vampire Chronicles (Paperback))\"))"
      ]
    },
    {
      "cell_type": "markdown",
      "metadata": {
        "id": "eat9A2TKawHU"
      },
      "source": [
        "Use the cell below to test your function. The `test_book_recommendation()` function will inform you if you passed the challenge or need to keep trying."
      ]
    },
    {
      "cell_type": "code",
      "execution_count": 77,
      "metadata": {
        "id": "jd2SLCh8oxMh"
      },
      "outputs": [
        {
          "name": "stdout",
          "output_type": "stream",
          "text": [
            "[\"Where the Heart Is (Oprah's Book Club (Paperback))\", [['Saving Grace', 0.9201843021441911], [\"The Pilot's Wife : A Novel\", 0.9172570741861605], ['I Know This Much Is True', 0.9101475435893542], ['Blue Diary', 0.9101138470509211], ['The Lovely Bones: A Novel', 0.9095981950904724]]]\n",
            "You passed the challenge! 🎉🎉🎉🎉🎉\n"
          ]
        },
        {
          "data": {
            "application/javascript": "\n            setTimeout(function() {\n                var nbb_cell_id = 77;\n                var nbb_unformatted_code = \"books = get_recommends(\\\"Where the Heart Is (Oprah's Book Club (Paperback))\\\")\\nprint(books)\\n\\n\\ndef test_book_recommendation():\\n    test_pass = True\\n    recommends = get_recommends(\\\"Where the Heart Is (Oprah's Book Club (Paperback))\\\")\\n    if recommends[0] != \\\"Where the Heart Is (Oprah's Book Club (Paperback))\\\":\\n        test_pass = False\\n    recommended_books = [\\n        \\\"Saving Grace\\\",\\n        \\\"The Pilot's Wife : A Novel\\\",\\n        \\\"I Know This Much Is True\\\",\\n        \\\"Blue Diary\\\",\\n        \\\"The Lovely Bones: A Novel\\\",\\n    ]\\n    recommended_books_dist = [0.92, 0.91, 0.91, 0.91, 0.90]\\n    for i in range(2):\\n        if recommends[1][i][0] not in recommended_books:\\n            test_pass = False\\n        if abs(recommends[1][i][1] - recommended_books_dist[i]) >= 0.05:\\n            test_pass = False\\n    if test_pass:\\n        print(\\\"You passed the challenge! \\ud83c\\udf89\\ud83c\\udf89\\ud83c\\udf89\\ud83c\\udf89\\ud83c\\udf89\\\")\\n    else:\\n        print(\\\"You haven't passed yet. Keep trying!\\\")\\n\\n\\ntest_book_recommendation()\";\n                var nbb_formatted_code = \"books = get_recommends(\\\"Where the Heart Is (Oprah's Book Club (Paperback))\\\")\\nprint(books)\\n\\n\\ndef test_book_recommendation():\\n    test_pass = True\\n    recommends = get_recommends(\\\"Where the Heart Is (Oprah's Book Club (Paperback))\\\")\\n    if recommends[0] != \\\"Where the Heart Is (Oprah's Book Club (Paperback))\\\":\\n        test_pass = False\\n    recommended_books = [\\n        \\\"Saving Grace\\\",\\n        \\\"The Pilot's Wife : A Novel\\\",\\n        \\\"I Know This Much Is True\\\",\\n        \\\"Blue Diary\\\",\\n        \\\"The Lovely Bones: A Novel\\\",\\n    ]\\n    recommended_books_dist = [0.92, 0.91, 0.91, 0.91, 0.90]\\n    for i in range(2):\\n        if recommends[1][i][0] not in recommended_books:\\n            test_pass = False\\n        if abs(recommends[1][i][1] - recommended_books_dist[i]) >= 0.05:\\n            test_pass = False\\n    if test_pass:\\n        print(\\\"You passed the challenge! \\ud83c\\udf89\\ud83c\\udf89\\ud83c\\udf89\\ud83c\\udf89\\ud83c\\udf89\\\")\\n    else:\\n        print(\\\"You haven't passed yet. Keep trying!\\\")\\n\\n\\ntest_book_recommendation()\";\n                var nbb_cells = Jupyter.notebook.get_cells();\n                for (var i = 0; i < nbb_cells.length; ++i) {\n                    if (nbb_cells[i].input_prompt_number == nbb_cell_id) {\n                        if (nbb_cells[i].get_text() == nbb_unformatted_code) {\n                             nbb_cells[i].set_text(nbb_formatted_code);\n                        }\n                        break;\n                    }\n                }\n            }, 500);\n            ",
            "text/plain": [
              "<IPython.core.display.Javascript object>"
            ]
          },
          "metadata": {},
          "output_type": "display_data"
        }
      ],
      "source": [
        "books = get_recommends(\"Where the Heart Is (Oprah's Book Club (Paperback))\")\n",
        "print(books)\n",
        "\n",
        "\n",
        "def test_book_recommendation():\n",
        "    test_pass = True\n",
        "    recommends = get_recommends(\"Where the Heart Is (Oprah's Book Club (Paperback))\")\n",
        "    if recommends[0] != \"Where the Heart Is (Oprah's Book Club (Paperback))\":\n",
        "        test_pass = False\n",
        "    recommended_books = [\n",
        "        \"Saving Grace\",\n",
        "        \"The Pilot's Wife : A Novel\",\n",
        "        \"I Know This Much Is True\",\n",
        "        \"Blue Diary\",\n",
        "        \"The Lovely Bones: A Novel\",\n",
        "    ]\n",
        "    recommended_books_dist = [0.92, 0.91, 0.91, 0.91, 0.90]\n",
        "    for i in range(2):\n",
        "        if recommends[1][i][0] not in recommended_books:\n",
        "            test_pass = False\n",
        "        if abs(recommends[1][i][1] - recommended_books_dist[i]) >= 0.05:\n",
        "            test_pass = False\n",
        "    if test_pass:\n",
        "        print(\"You passed the challenge! 🎉🎉🎉🎉🎉\")\n",
        "    else:\n",
        "        print(\"You haven't passed yet. Keep trying!\")\n",
        "\n",
        "\n",
        "test_book_recommendation()"
      ]
    }
  ],
  "metadata": {
    "colab": {
      "collapsed_sections": [],
      "name": "fcc_book_recommendation_knn.ipynb",
      "provenance": []
    },
    "kernelspec": {
      "display_name": "Python 3",
      "language": "python",
      "name": "python3"
    },
    "language_info": {
      "codemirror_mode": {
        "name": "ipython",
        "version": 3
      },
      "file_extension": ".py",
      "mimetype": "text/x-python",
      "name": "python",
      "nbconvert_exporter": "python",
      "pygments_lexer": "ipython3",
      "version": "3.10.2"
    }
  },
  "nbformat": 4,
  "nbformat_minor": 0
}
